{
 "cells": [
  {
   "cell_type": "code",
   "execution_count": 7,
   "metadata": {},
   "outputs": [],
   "source": [
    "import warnings\n",
    "warnings.filterwarnings('ignore',category=FutureWarning)\n",
    "import numpy as np\n",
    "import os\n",
    "import random\n",
    "import shutil\n",
    "import cv2\n",
    "%matplotlib inline\n",
    "\n",
    "import matplotlib.pyplot as plt\n",
    "\n",
    "\n",
    "import torch\n",
    "from torchsummary import summary\n",
    "import torch.nn as nn\n",
    "from torch.utils.data import DataLoader\n",
    "from torchvision.datasets import ImageFolder\n",
    "import torchvision.transforms as transforms\n",
    "from torch.utils.data import DataLoader, random_split\n",
    "import torchcontrib.optim as tc_optim\n",
    "import scipy\n",
    "\n"
   ]
  },
  {
   "attachments": {},
   "cell_type": "markdown",
   "metadata": {},
   "source": []
  },
  {
   "attachments": {},
   "cell_type": "markdown",
   "metadata": {},
   "source": [
    "# 1. Data pre-processing\n",
    "1. create a trnasformaer which resize and normalize  picture\n",
    "2. split to train valid and test folders "
   ]
  },
  {
   "cell_type": "code",
   "execution_count": 8,
   "metadata": {},
   "outputs": [],
   "source": [
    "\n",
    "# Define the source directory where the 8000 images and vectors are located\n",
    "source_dir = 'Data/jpg'\n",
    "\n",
    "# Define the destination root directory where the class folders will be created\n",
    "destination_root = 'Data/yolov5_pic'\n",
    "\n",
    "# Create the destination root directory if it does not exist\n",
    "if not os.path.exists(destination_root):\n",
    "    os.makedirs(destination_root)\n",
    "\n",
    "# Read the vector data (assuming it is stored in a list named 'vector_data')\n",
    "mat_data = scipy.io.loadmat('Data\\imagelabels.mat')\n",
    "vector_data=mat_data['labels'].flatten()\n",
    "list_of_images=os.listdir('Data/jpg')\n",
    "# Iterate over each image and its corresponding vector\n",
    "for i in range(len(vector_data)):\n",
    "    # Determine the class label based on the vector data (assuming it is a single integer value)\n",
    "    class_label = vector_data[i]  # Replace with your method of obtaining the class label\n",
    "\n",
    "    # Create the destination class directory if it does not exist\n",
    "    class_dir = os.path.join(destination_root, str(class_label))\n",
    "    if not os.path.exists(class_dir):\n",
    "        os.makedirs(class_dir)\n",
    "\n",
    "    # Copy the image file from the source directory to the corresponding class directory\n",
    "    image_file = list_of_images[i]  # Replace with your image file naming convention\n",
    "    shutil.copy(os.path.join(source_dir, image_file), os.path.join(class_dir, image_file))"
   ]
  },
  {
   "cell_type": "code",
   "execution_count": 9,
   "metadata": {},
   "outputs": [],
   "source": [
    "data_dir = 'Data\\yolov5_pic'\n",
    "transform = transforms.Compose([\n",
    "    transforms.Resize((224, 224)),\n",
    "    transforms.ToTensor(),\n",
    "    transforms.Normalize(mean=[0.485, 0.456, 0.406], std=[0.229, 0.224, 0.225])  # Replace with appropriate normalization values\n",
    "])\n",
    "dataset = ImageFolder(data_dir, transform=transform)\n",
    "dataloader = DataLoader(dataset, batch_size=32, shuffle=True)"
   ]
  },
  {
   "attachments": {},
   "cell_type": "markdown",
   "metadata": {},
   "source": [
    "## 2.ML implematation\n",
    "1. split to train validation and test data sets\n",
    "2. insert the data set to the Dataloader\n",
    "3. Hyper parameter tuning\n",
    "4. fit the model with the best learnign rate"
   ]
  },
  {
   "cell_type": "code",
   "execution_count": 10,
   "metadata": {},
   "outputs": [],
   "source": [
    "#split data to train validation and test\n",
    "train_ratio = 0.5\n",
    "val_ratio = 0.25\n",
    "test_ratio = 0.25\n",
    "train_size = int(train_ratio * len(dataset))\n",
    "val_size = int(val_ratio * len(dataset))\n",
    "test_size = len(dataset) - train_size - val_size\n",
    "train_dataset, val_dataset, test_dataset = random_split(dataset, [train_size, val_size, test_size])\n",
    "# Define data loaders for train, validation, and test sets\n",
    "batch_size = 32\n",
    "train_loader = DataLoader(train_dataset, batch_size=batch_size, shuffle=True)\n",
    "val_loader = DataLoader(val_dataset, batch_size=batch_size)\n",
    "test_loader = DataLoader(test_dataset, batch_size=batch_size)\n",
    "\n"
   ]
  },
  {
   "cell_type": "code",
   "execution_count": 11,
   "metadata": {},
   "outputs": [],
   "source": [
    "# build the architecture of the model\n",
    "def yolov_5_model(lr_parm=0.001):\n",
    "    \"\"\"\n",
    "    create yolov5 clf model\n",
    "    params : lr_param- float of learning rate\n",
    "    return model, optimizer, criterion\n",
    "    \"\"\"\n",
    "    #import the backbone\n",
    "    backbone = torch.hub.load('ultralytics/yolov5', 'custom', 'yolov5s-cls.pt')\n",
    "    # Freeze the pre-trained layers\n",
    "    for param in backbone.parameters():\n",
    "        param.requires_grad = False\n",
    "    # Replace the classification head\n",
    "    num_classes = 103  \n",
    "    classification_head = nn.Sequential(\n",
    "        nn.Linear(in_features=1000, out_features=256),\n",
    "        nn.ReLU(),\n",
    "        nn.Linear(in_features=256, out_features=num_classes)\n",
    "    )\n",
    "    model = nn.Sequential(backbone, classification_head)\n",
    "    device = torch.device('cuda' if torch.cuda.is_available() else 'cpu')\n",
    "    model.to(device)\n",
    "    # Define loss function and optimizer\n",
    "    criterion = nn.CrossEntropyLoss()\n",
    "    optimizer = torch.optim.Adam(model.parameters(), lr=lr_parm)\n",
    "    return model,optimizer,criterion,device"
   ]
  },
  {
   "cell_type": "code",
   "execution_count": 44,
   "metadata": {},
   "outputs": [
    {
     "name": "stderr",
     "output_type": "stream",
     "text": [
      "Using cache found in C:\\Users\\galbe/.cache\\torch\\hub\\ultralytics_yolov5_master\n",
      "YOLOv5  2023-6-22 Python-3.10.9 torch-2.0.1+cpu CPU\n",
      "\n",
      "Fusing layers... \n",
      "Model summary: 117 layers, 5447688 parameters, 0 gradients, 11.4 GFLOPs\n",
      "WARNING  YOLOv5 ClassificationModel is not yet AutoShape compatible. You must pass torch tensors in BCHW to this model, i.e. shape(1,3,224,224).\n"
     ]
    },
    {
     "name": "stdout",
     "output_type": "stream",
     "text": [
      "Epoch [1/7], Train Loss: 4.0118\n",
      "Epoch [1/7], Train Accuracy: 33.33%\n",
      "Epoch [1/7], Validation Accuracy: 34.88%\n",
      "Epoch [2/7], Train Loss: 2.5663\n",
      "Epoch [2/7], Train Accuracy: 66.67%\n",
      "Epoch [2/7], Validation Accuracy: 58.48%\n",
      "Epoch [3/7], Train Loss: 1.6339\n",
      "Epoch [3/7], Train Accuracy: 80.00%\n",
      "Epoch [3/7], Validation Accuracy: 73.82%\n",
      "Epoch [4/7], Train Loss: 1.1291\n",
      "Epoch [4/7], Train Accuracy: 90.00%\n",
      "Epoch [4/7], Validation Accuracy: 79.68%\n",
      "Epoch [5/7], Train Loss: 0.8487\n",
      "Epoch [5/7], Train Accuracy: 83.33%\n",
      "Epoch [5/7], Validation Accuracy: 82.12%\n",
      "Epoch [6/7], Train Loss: 0.6703\n",
      "Epoch [6/7], Train Accuracy: 93.33%\n",
      "Epoch [6/7], Validation Accuracy: 83.49%\n",
      "Epoch [7/7], Train Loss: 0.5566\n",
      "Epoch [7/7], Train Accuracy: 90.00%\n",
      "Epoch [7/7], Validation Accuracy: 84.86%\n"
     ]
    },
    {
     "name": "stderr",
     "output_type": "stream",
     "text": [
      "Using cache found in C:\\Users\\galbe/.cache\\torch\\hub\\ultralytics_yolov5_master\n",
      "YOLOv5  2023-6-22 Python-3.10.9 torch-2.0.1+cpu CPU\n",
      "\n",
      "Fusing layers... \n",
      "Model summary: 117 layers, 5447688 parameters, 0 gradients, 11.4 GFLOPs\n",
      "WARNING  YOLOv5 ClassificationModel is not yet AutoShape compatible. You must pass torch tensors in BCHW to this model, i.e. shape(1,3,224,224).\n"
     ]
    },
    {
     "name": "stdout",
     "output_type": "stream",
     "text": [
      "Epoch [1/7], Train Loss: 2.4750\n",
      "Epoch [1/7], Train Accuracy: 73.33%\n",
      "Epoch [1/7], Validation Accuracy: 77.04%\n",
      "Epoch [2/7], Train Loss: 0.6748\n",
      "Epoch [2/7], Train Accuracy: 93.33%\n",
      "Epoch [2/7], Validation Accuracy: 83.00%\n",
      "Epoch [3/7], Train Loss: 0.3560\n",
      "Epoch [3/7], Train Accuracy: 90.00%\n",
      "Epoch [3/7], Validation Accuracy: 86.17%\n",
      "Epoch [4/7], Train Loss: 0.2252\n",
      "Epoch [4/7], Train Accuracy: 96.67%\n",
      "Epoch [4/7], Validation Accuracy: 87.20%\n",
      "Epoch [5/7], Train Loss: 0.1508\n",
      "Epoch [5/7], Train Accuracy: 100.00%\n",
      "Epoch [5/7], Validation Accuracy: 87.64%\n",
      "Epoch [6/7], Train Loss: 0.1042\n",
      "Epoch [6/7], Train Accuracy: 100.00%\n",
      "Epoch [6/7], Validation Accuracy: 89.45%\n",
      "Epoch [7/7], Train Loss: 0.0761\n",
      "Epoch [7/7], Train Accuracy: 100.00%\n",
      "Epoch [7/7], Validation Accuracy: 88.91%\n"
     ]
    },
    {
     "name": "stderr",
     "output_type": "stream",
     "text": [
      "Using cache found in C:\\Users\\galbe/.cache\\torch\\hub\\ultralytics_yolov5_master\n",
      "YOLOv5  2023-6-22 Python-3.10.9 torch-2.0.1+cpu CPU\n",
      "\n",
      "Fusing layers... \n",
      "Model summary: 117 layers, 5447688 parameters, 0 gradients, 11.4 GFLOPs\n",
      "WARNING  YOLOv5 ClassificationModel is not yet AutoShape compatible. You must pass torch tensors in BCHW to this model, i.e. shape(1,3,224,224).\n"
     ]
    },
    {
     "name": "stdout",
     "output_type": "stream",
     "text": [
      "Epoch [1/7], Train Loss: 1.9882\n",
      "Epoch [1/7], Train Accuracy: 80.00%\n",
      "Epoch [1/7], Validation Accuracy: 78.16%\n",
      "Epoch [2/7], Train Loss: 0.4551\n",
      "Epoch [2/7], Train Accuracy: 80.00%\n",
      "Epoch [2/7], Validation Accuracy: 85.88%\n",
      "Epoch [3/7], Train Loss: 0.2287\n",
      "Epoch [3/7], Train Accuracy: 93.33%\n",
      "Epoch [3/7], Validation Accuracy: 85.93%\n",
      "Epoch [4/7], Train Loss: 0.1426\n",
      "Epoch [4/7], Train Accuracy: 93.33%\n",
      "Epoch [4/7], Validation Accuracy: 87.74%\n",
      "Epoch [5/7], Train Loss: 0.0747\n",
      "Epoch [5/7], Train Accuracy: 100.00%\n",
      "Epoch [5/7], Validation Accuracy: 88.96%\n",
      "Epoch [6/7], Train Loss: 0.0450\n",
      "Epoch [6/7], Train Accuracy: 100.00%\n",
      "Epoch [6/7], Validation Accuracy: 89.45%\n",
      "Epoch [7/7], Train Loss: 0.0282\n",
      "Epoch [7/7], Train Accuracy: 100.00%\n",
      "Epoch [7/7], Validation Accuracy: 89.06%\n"
     ]
    },
    {
     "name": "stderr",
     "output_type": "stream",
     "text": [
      "Using cache found in C:\\Users\\galbe/.cache\\torch\\hub\\ultralytics_yolov5_master\n",
      "YOLOv5  2023-6-22 Python-3.10.9 torch-2.0.1+cpu CPU\n",
      "\n",
      "Fusing layers... \n",
      "Model summary: 117 layers, 5447688 parameters, 0 gradients, 11.4 GFLOPs\n",
      "WARNING  YOLOv5 ClassificationModel is not yet AutoShape compatible. You must pass torch tensors in BCHW to this model, i.e. shape(1,3,224,224).\n"
     ]
    },
    {
     "name": "stdout",
     "output_type": "stream",
     "text": [
      "Epoch [1/7], Train Loss: 2.4000\n",
      "Epoch [1/7], Train Accuracy: 70.00%\n",
      "Epoch [1/7], Validation Accuracy: 55.35%\n",
      "Epoch [2/7], Train Loss: 1.1764\n",
      "Epoch [2/7], Train Accuracy: 73.33%\n",
      "Epoch [2/7], Validation Accuracy: 65.17%\n",
      "Epoch [3/7], Train Loss: 0.9427\n",
      "Epoch [3/7], Train Accuracy: 73.33%\n",
      "Epoch [3/7], Validation Accuracy: 70.35%\n",
      "Epoch [4/7], Train Loss: 0.7441\n",
      "Epoch [4/7], Train Accuracy: 63.33%\n",
      "Epoch [4/7], Validation Accuracy: 69.17%\n",
      "Epoch [5/7], Train Loss: 0.7224\n",
      "Epoch [5/7], Train Accuracy: 80.00%\n",
      "Epoch [5/7], Validation Accuracy: 73.62%\n",
      "Epoch [6/7], Train Loss: 0.7879\n",
      "Epoch [6/7], Train Accuracy: 90.00%\n",
      "Epoch [6/7], Validation Accuracy: 70.35%\n",
      "Epoch [7/7], Train Loss: 0.7305\n",
      "Epoch [7/7], Train Accuracy: 86.67%\n",
      "Epoch [7/7], Validation Accuracy: 73.38%\n",
      "Best learning rate: 0.0005\n"
     ]
    }
   ],
   "source": [
    "#hyper parameter tuning\n",
    "learning_rates = [0.0001, 0.0005, 0.001, 0.01]\n",
    "best_val_accuracy = 0\n",
    "best_learning_rate = None\n",
    "\n",
    "for learning_rate in learning_rates:\n",
    "    train_accuracy_values = []\n",
    "    val_accuracy_values = []\n",
    "    train_loss_values = []\n",
    "    val_loss_values = []\n",
    "    model, optimizer, criterion, device = yolov_5_model(lr_parm=learning_rate)\n",
    "\n",
    "    # Training loop\n",
    "    num_epochs = 7\n",
    "    for epoch in range(num_epochs):\n",
    "        model.train()\n",
    "        running_loss = 0.0\n",
    "\n",
    "        for images, labels in train_loader:\n",
    "            images = images.to(device)\n",
    "            labels = labels.to(device)\n",
    "\n",
    "            optimizer.zero_grad()\n",
    "\n",
    "            # Forward pass\n",
    "            outputs = model(images)\n",
    "            loss = criterion(outputs, labels)\n",
    "\n",
    "            # Backward pass and optimization\n",
    "            loss.backward()\n",
    "            optimizer.step()\n",
    "\n",
    "            running_loss += loss.item()\n",
    "\n",
    "        epoch_loss = running_loss / len(train_loader)\n",
    "        train_loss_values.append(epoch_loss)\n",
    "        print(f\"Epoch [{epoch+1}/{num_epochs}], Train Loss: {epoch_loss:.4f}\")\n",
    "        # Calculate training accuracy\n",
    "        _, predicted = torch.max(outputs, 1)\n",
    "        correct = (predicted == labels).sum().item()\n",
    "        train_accuracy = 100 * correct / labels.size(0)\n",
    "        train_accuracy_values.append(train_accuracy)\n",
    "        print(f\"Epoch [{epoch+1}/{num_epochs}], Train Accuracy: {train_accuracy:.2f}%\")\n",
    "\n",
    "        # Validation\n",
    "        model.eval()\n",
    "        total_correct = 0\n",
    "        total_samples = 0\n",
    "        val_loss = 0.0\n",
    "\n",
    "        with torch.no_grad():\n",
    "            for images, labels in val_loader:\n",
    "                images = images.to(device)\n",
    "                labels = labels.to(device)\n",
    "\n",
    "                outputs = model(images)\n",
    "                _, predicted = torch.max(outputs, 1)\n",
    "                total_samples += labels.size(0)\n",
    "                total_correct += (predicted == labels).sum().item()\n",
    "                val_loss += criterion(outputs, labels).item()\n",
    "\n",
    "        val_accuracy = 100 * total_correct / total_samples\n",
    "        val_loss /= len(val_loader)\n",
    "        val_accuracy_values.append(val_accuracy)\n",
    "        val_loss_values.append(val_loss)\n",
    "        print(f\"Epoch [{epoch+1}/{num_epochs}], Validation Accuracy: {val_accuracy:.2f}%\")\n",
    "\n",
    "        if val_accuracy > best_val_accuracy:\n",
    "            best_val_accuracy = val_accuracy\n",
    "            best_learning_rate = learning_rate\n",
    "\n",
    "print(\"Best learning rate:\", best_learning_rate)"
   ]
  },
  {
   "cell_type": "code",
   "execution_count": 14,
   "metadata": {},
   "outputs": [],
   "source": [
    "best_learning_rate=0.0005"
   ]
  },
  {
   "cell_type": "code",
   "execution_count": 23,
   "metadata": {},
   "outputs": [
    {
     "name": "stderr",
     "output_type": "stream",
     "text": [
      "Using cache found in C:\\Users\\galbe/.cache\\torch\\hub\\ultralytics_yolov5_master\n",
      "YOLOv5  2023-6-22 Python-3.10.12 torch-2.0.1 CPU\n",
      "\n",
      "Fusing layers... \n",
      "Model summary: 117 layers, 5447688 parameters, 0 gradients, 11.4 GFLOPs\n",
      "WARNING  YOLOv5 ClassificationModel is not yet AutoShape compatible. You must pass torch tensors in BCHW to this model, i.e. shape(1,3,224,224).\n"
     ]
    },
    {
     "name": "stdout",
     "output_type": "stream",
     "text": [
      "Epoch [1/10], Train Loss: 2.4767\n",
      "Epoch [1/10], Train Accuracy: 73.33%\n",
      "Epoch [1/10], Validation Accuracy: 76.65%\n",
      "Epoch [2/10], Train Loss: 0.6736\n",
      "Epoch [2/10], Train Accuracy: 80.00%\n",
      "Epoch [2/10], Validation Accuracy: 84.12%\n",
      "Epoch [3/10], Train Loss: 0.3652\n",
      "Epoch [3/10], Train Accuracy: 90.00%\n",
      "Epoch [3/10], Validation Accuracy: 86.42%\n",
      "Epoch [4/10], Train Loss: 0.2420\n",
      "Epoch [4/10], Train Accuracy: 100.00%\n",
      "Epoch [4/10], Validation Accuracy: 88.42%\n",
      "Epoch [5/10], Train Loss: 0.1570\n",
      "Epoch [5/10], Train Accuracy: 100.00%\n",
      "Epoch [5/10], Validation Accuracy: 89.15%\n",
      "Epoch [6/10], Train Loss: 0.1166\n",
      "Epoch [6/10], Train Accuracy: 100.00%\n",
      "Epoch [6/10], Validation Accuracy: 88.62%\n",
      "Epoch [7/10], Train Loss: 0.0821\n",
      "Epoch [7/10], Train Accuracy: 100.00%\n",
      "Epoch [7/10], Validation Accuracy: 89.89%\n",
      "Epoch [8/10], Train Loss: 0.0636\n",
      "Epoch [8/10], Train Accuracy: 100.00%\n",
      "Epoch [8/10], Validation Accuracy: 89.89%\n",
      "Epoch [9/10], Train Loss: 0.0454\n",
      "Epoch [9/10], Train Accuracy: 100.00%\n",
      "Epoch [9/10], Validation Accuracy: 90.38%\n",
      "Epoch [10/10], Train Loss: 0.0355\n",
      "Epoch [10/10], Train Accuracy: 100.00%\n",
      "Epoch [10/10], Validation Accuracy: 90.77%\n"
     ]
    }
   ],
   "source": [
    "# Lists to store accuracy and loss values\n",
    "train_accuracy_values = []\n",
    "val_accuracy_values = []\n",
    "test_accuracy_values = []\n",
    "train_loss_values = []\n",
    "val_loss_values = []\n",
    "test_loss_values = []\n",
    "model,optimizer,criterion,device=yolov_5_model(lr_parm=best_learning_rate)\n",
    "\n",
    "# Training loop\n",
    "num_epochs = 10\n",
    "for epoch in range(num_epochs):\n",
    "    model.train()\n",
    "    running_loss = 0.0\n",
    "\n",
    "    for images, labels in train_loader:\n",
    "        images = images.to(device)\n",
    "        labels = labels.to(device)\n",
    "\n",
    "        optimizer.zero_grad()\n",
    "\n",
    "        # Forward pass\n",
    "        outputs = model(images)\n",
    "        loss = criterion(outputs, labels)\n",
    "\n",
    "        # Backward pass and optimization\n",
    "        loss.backward()\n",
    "        optimizer.step()\n",
    "\n",
    "        running_loss += loss.item()\n",
    "\n",
    "    epoch_loss = running_loss / len(train_loader)\n",
    "    train_loss_values.append(epoch_loss)\n",
    "    print(f\"Epoch [{epoch+1}/{num_epochs}], Train Loss: {epoch_loss:.4f}\")\n",
    "    # Calculate training accuracy\n",
    "    _, predicted = torch.max(outputs, 1)\n",
    "    correct = (predicted == labels).sum().item()\n",
    "    train_accuracy = 100 * correct / labels.size(0)\n",
    "    train_accuracy_values.append(train_accuracy)\n",
    "    print(f\"Epoch [{epoch+1}/{num_epochs}], Train Accuracy: {train_accuracy:.2f}%\")\n",
    "\n",
    "    # Validation\n",
    "    model.eval()\n",
    "    total_correct = 0\n",
    "    total_samples = 0\n",
    "    val_loss = 0.0\n",
    "\n",
    "    with torch.no_grad():\n",
    "        for images, labels in val_loader:\n",
    "            images = images.to(device)\n",
    "            labels = labels.to(device)\n",
    "\n",
    "            outputs = model(images)\n",
    "            _, predicted = torch.max(outputs, 1)\n",
    "            total_samples += labels.size(0)\n",
    "            total_correct += (predicted == labels).sum().item()\n",
    "            val_loss += criterion(outputs, labels).item()\n",
    "        val_accuracy = 100 * total_correct / total_samples\n",
    "        val_loss /= len(val_loader)\n",
    "        val_accuracy_values.append(val_accuracy)\n",
    "        val_loss_values.append(val_loss)\n",
    "        print(f\"Epoch [{epoch+1}/{num_epochs}], Validation Accuracy: {val_accuracy:.2f}%\")\n",
    "\n",
    "    # test- as required, we store the loss and accuracy of each epochs\n",
    "    with torch.no_grad():\n",
    "        total_correct = 0\n",
    "        total_samples = 0\n",
    "        test_loss = 0.0\n",
    "        for images, labels in test_loader:\n",
    "            images = images.to(device)\n",
    "            labels = labels.to(device)\n",
    "\n",
    "            outputs = model(images)\n",
    "            _, predicted = torch.max(outputs, 1)\n",
    "            total_samples += labels.size(0)\n",
    "            total_correct += (predicted == labels).sum().item()\n",
    "            test_loss += criterion(outputs, labels).item()\n",
    "\n",
    "        test_accuracy = 100 * total_correct / total_samples\n",
    "        test_loss /= len(test_loader)\n",
    "        test_accuracy_values.append(test_accuracy)\n",
    "        test_loss_values.append(test_loss)\n",
    "\n"
   ]
  },
  {
   "attachments": {},
   "cell_type": "markdown",
   "metadata": {},
   "source": [
    "# 3. Model Evaluation"
   ]
  },
  {
   "cell_type": "code",
   "execution_count": null,
   "metadata": {},
   "outputs": [],
   "source": []
  },
  {
   "cell_type": "code",
   "execution_count": 24,
   "metadata": {},
   "outputs": [
    {
     "name": "stdout",
     "output_type": "stream",
     "text": [
      "Test Accuracy: 90.33%\n"
     ]
    }
   ],
   "source": [
    "#test model\n",
    "torch.save(model.state_dict(), 'trained_model.pt')\n",
    "\n",
    "# Test\n",
    "model.eval()\n",
    "total_correct = 0\n",
    "total_samples = 0\n",
    "\n",
    "with torch.no_grad():\n",
    "    for images, labels in test_loader:\n",
    "        images = images.to(device)\n",
    "        labels = labels.to(device)\n",
    "\n",
    "        outputs = model(images)\n",
    "        _, predicted = torch.max(outputs, 1)\n",
    "        total_samples += labels.size(0)\n",
    "        total_correct += (predicted == labels).sum().item()\n",
    "\n",
    "test_accuracy = 100 * total_correct / total_samples\n",
    "print(f\"Test Accuracy: {test_accuracy:.2f}%\")"
   ]
  },
  {
   "cell_type": "code",
   "execution_count": 18,
   "metadata": {},
   "outputs": [],
   "source": [
    "%matplotlib inline\n",
    "\n",
    "import matplotlib.pyplot as plt"
   ]
  },
  {
   "cell_type": "code",
   "execution_count": 25,
   "metadata": {},
   "outputs": [
    {
     "data": {
      "image/png": "[encoded data removed]",
      "text/plain": [
       "<Figure size 640x480 with 1 Axes>"
      ]
     },
     "metadata": {},
     "output_type": "display_data"
    }
   ],
   "source": [
    "# Plotting training and validation accuracy over epochs\n",
    "plt.plot(range(1, num_epochs + 1), train_accuracy_values, label='Training Accuracy')\n",
    "plt.plot(range(1, num_epochs + 1), val_accuracy_values, label='Validation Accuracy')\n",
    "plt.plot(range(1, num_epochs + 1), test_accuracy_values, label='testing Accuracy')\n",
    "\n",
    "plt.xlabel('Epoch')\n",
    "plt.ylabel('Accuracy (%)')\n",
    "plt.title('Training and Validation Accuracy')\n",
    "plt.legend()\n",
    "plt.show()\n",
    "\n"
   ]
  },
  {
   "cell_type": "code",
   "execution_count": 26,
   "metadata": {},
   "outputs": [
    {
     "data": {
      "image/png": "[encoded data removed]",
      "text/plain": [
       "<Figure size 640x480 with 1 Axes>"
      ]
     },
     "metadata": {},
     "output_type": "display_data"
    }
   ],
   "source": [
    "# Plotting training and validation loss over epochs\n",
    "plt.plot(range(1, num_epochs + 1), train_loss_values, label='Training Loss')\n",
    "plt.plot(range(1, num_epochs + 1), val_loss_values, label='Validation Loss')\n",
    "plt.plot(range(1, num_epochs + 1), test_loss_values, label='testing Loss')\n",
    "\n",
    "plt.xlabel('Epoch')\n",
    "plt.ylabel('Loss')\n",
    "plt.title('Training and Validation Loss')\n",
    "plt.legend()\n",
    "plt.show()"
   ]
  },
  {
   "cell_type": "code",
   "execution_count": 27,
   "metadata": {},
   "outputs": [
    {
     "data": {
      "text/plain": [
       "[1.1236924827098846,\n",
       " 0.6632132977247238,\n",
       " 0.541476028971374,\n",
       " 0.4514025191310793,\n",
       " 0.4167410838417709,\n",
       " 0.3896828633733094,\n",
       " 0.3697825373383239,\n",
       " 0.3655140391783789,\n",
       " 0.35924722836352885,\n",
       " 0.345013034529984]"
      ]
     },
     "execution_count": 27,
     "metadata": {},
     "output_type": "execute_result"
    }
   ],
   "source": [
    "test_loss_values"
   ]
  },
  {
   "cell_type": "code",
   "execution_count": null,
   "metadata": {},
   "outputs": [],
   "source": []
  }
 ],
 "metadata": {
  "kernelspec": {
   "display_name": "base",
   "language": "python",
   "name": "python3"
  },
  "language_info": {
   "codemirror_mode": {
    "name": "ipython",
    "version": 3
   },
   "file_extension": ".py",
   "mimetype": "text/x-python",
   "name": "python",
   "nbconvert_exporter": "python",
   "pygments_lexer": "ipython3",
   "version": "3.10.9"
  },
  "orig_nbformat": 4
 },
 "nbformat": 4,
 "nbformat_minor": 2
}
